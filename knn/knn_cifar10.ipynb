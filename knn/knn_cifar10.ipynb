{
 "cells": [
  {
   "cell_type": "code",
   "execution_count": 1,
   "metadata": {
    "collapsed": true
   },
   "outputs": [],
   "source": [
    "%matplotlib inline\n",
    "import numpy as np\n",
    "import matplotlib.pyplot as plt\n",
    "from six.moves import cPickle "
   ]
  },
  {
   "cell_type": "code",
   "execution_count": null,
   "metadata": {
    "collapsed": true
   },
   "outputs": [],
   "source": [
    "def load_cifar10():\n",
    "    f = open('/home/alvin/notebook_home/ai_lab_image/corpus/cifar-10-batches-py/data_batch_1', 'rb')\n",
    "    datadict = cPickle.load(f,encoding='latin1')\n",
    "    f.close()\n",
    "    \n",
    "    DX= datadict[\"data\"] # 1000 x (32x32x3)\n",
    "    DY= datadict['labels']\n",
    "    #X = DX.reshape(10000, 3, 32, 32).transpose(0,2,3,1).astype(\"uint8\")\n",
    "    X = np.array(DX)\n",
    "    Y = np.array(DY)\n",
    "    return X,Y"
   ]
  },
  {
   "cell_type": "code",
   "execution_count": 40,
   "metadata": {
    "collapsed": true
   },
   "outputs": [],
   "source": [
    "def load_cifar10(dataset_number):\n",
    "\n",
    "    for i in range(dataset_number):\n",
    "        filename = '/home/alvin/notebook_home/ai_lab_image/corpus/cifar-10-batches-py/data_batch_' +str(i+1)\n",
    "        f = open(filename, 'rb')\n",
    "        datadict = cPickle.load(f,encoding='latin1')\n",
    "        f.close()\n",
    "    \n",
    "        DX= datadict[\"data\"] # 1000 x (32x32x3)\n",
    "        DY= datadict['labels']\n",
    "        #X = DX.reshape(10000, 3, 32, 32).transpose(0,2,3,1).astype(\"uint8\")\n",
    "        X[i*10000:(i+1)*10000] = np.array(DX)\n",
    "        Y[i*10000:(i+1)*10000] = np.array(DY).reshape(len(DY),1)\n",
    "        #break\n",
    "    return X,Y"
   ]
  },
  {
   "cell_type": "code",
   "execution_count": 41,
   "metadata": {
    "collapsed": true
   },
   "outputs": [],
   "source": [
    "cifar_label = { '0':'airplane',\n",
    "                '1':'automobile',\n",
    "                '2':'bird',\n",
    "                '3':'cat',\n",
    "                '4':'deer',\n",
    "                '5':'dog',\n",
    "                '6':'frog',\n",
    "                '7':'horse',\n",
    "                '8':'ship',\n",
    "                '9':'truck'}"
   ]
  },
  {
   "cell_type": "code",
   "execution_count": 42,
   "metadata": {},
   "outputs": [],
   "source": [
    "dataset_number = 2\n",
    "X = np.zeros(shape=(dataset_number*10000,32*32*3),dtype='uint8')\n",
    "Y = np.zeros(shape=(dataset_number*10000,1), dtype='uint8')\n",
    "X,Y = load_cifar10(dataset_number)"
   ]
  },
  {
   "cell_type": "code",
   "execution_count": 43,
   "metadata": {},
   "outputs": [
    {
     "data": {
      "text/plain": [
       "array([[1],\n",
       "       [6],\n",
       "       [6],\n",
       "       [8],\n",
       "       [8],\n",
       "       [3],\n",
       "       [4],\n",
       "       [6],\n",
       "       [0],\n",
       "       [6]], dtype=uint8)"
      ]
     },
     "execution_count": 43,
     "metadata": {},
     "output_type": "execute_result"
    }
   ],
   "source": [
    "Y[10000:10010]"
   ]
  },
  {
   "cell_type": "code",
   "execution_count": 37,
   "metadata": {},
   "outputs": [
    {
     "name": "stdout",
     "output_type": "stream",
     "text": [
      "dataset count = 20000\n",
      "number of class 0: 1989\n",
      "number of class 1: 1981\n",
      "number of class 2: 2042\n",
      "number of class 3: 2011\n",
      "number of class 4: 2009\n",
      "number of class 5: 1925\n",
      "number of class 6: 2038\n",
      "number of class 7: 2027\n",
      "number of class 8: 2012\n",
      "number of class 9: 1966\n"
     ]
    }
   ],
   "source": [
    "# display basic information \n",
    "print('dataset count = ' + str(len(X)))\n",
    "for i in range(10):\n",
    "    print('number of class '+ str(i) + ': ' + str(Y[np.where(Y==i)].size))"
   ]
  },
  {
   "cell_type": "code",
   "execution_count": 39,
   "metadata": {},
   "outputs": [
    {
     "ename": "KeyError",
     "evalue": "'[6]'",
     "output_type": "error",
     "traceback": [
      "\u001b[0;31m---------------------------------------------------------------------------\u001b[0m",
      "\u001b[0;31mKeyError\u001b[0m                                  Traceback (most recent call last)",
      "\u001b[0;32m<ipython-input-39-a892b71b1189>\u001b[0m in \u001b[0;36m<module>\u001b[0;34m()\u001b[0m\n\u001b[1;32m      8\u001b[0m     \u001b[0maxes1\u001b[0m\u001b[0;34m[\u001b[0m\u001b[0mint\u001b[0m\u001b[0;34m(\u001b[0m\u001b[0mi\u001b[0m\u001b[0;34m/\u001b[0m\u001b[0mpic_dim\u001b[0m\u001b[0;34m)\u001b[0m\u001b[0;34m]\u001b[0m\u001b[0;34m[\u001b[0m\u001b[0mint\u001b[0m\u001b[0;34m(\u001b[0m\u001b[0mi\u001b[0m\u001b[0;34m%\u001b[0m\u001b[0mpic_dim\u001b[0m\u001b[0;34m)\u001b[0m\u001b[0;34m]\u001b[0m\u001b[0;34m.\u001b[0m\u001b[0mset_axis_off\u001b[0m\u001b[0;34m(\u001b[0m\u001b[0;34m)\u001b[0m\u001b[0;34m\u001b[0m\u001b[0m\n\u001b[1;32m      9\u001b[0m     \u001b[0maxes1\u001b[0m\u001b[0;34m[\u001b[0m\u001b[0mint\u001b[0m\u001b[0;34m(\u001b[0m\u001b[0mi\u001b[0m\u001b[0;34m/\u001b[0m\u001b[0mpic_dim\u001b[0m\u001b[0;34m)\u001b[0m\u001b[0;34m]\u001b[0m\u001b[0;34m[\u001b[0m\u001b[0mint\u001b[0m\u001b[0;34m(\u001b[0m\u001b[0mi\u001b[0m\u001b[0;34m%\u001b[0m\u001b[0mpic_dim\u001b[0m\u001b[0;34m)\u001b[0m\u001b[0;34m]\u001b[0m\u001b[0;34m.\u001b[0m\u001b[0mimshow\u001b[0m\u001b[0;34m(\u001b[0m\u001b[0mX3\u001b[0m\u001b[0;34m[\u001b[0m\u001b[0mi\u001b[0m\u001b[0;34m]\u001b[0m\u001b[0;34m)\u001b[0m\u001b[0;34m\u001b[0m\u001b[0m\n\u001b[0;32m---> 10\u001b[0;31m     \u001b[0maxes1\u001b[0m\u001b[0;34m[\u001b[0m\u001b[0mint\u001b[0m\u001b[0;34m(\u001b[0m\u001b[0mi\u001b[0m\u001b[0;34m/\u001b[0m\u001b[0mpic_dim\u001b[0m\u001b[0;34m)\u001b[0m\u001b[0;34m]\u001b[0m\u001b[0;34m[\u001b[0m\u001b[0mint\u001b[0m\u001b[0;34m(\u001b[0m\u001b[0mi\u001b[0m\u001b[0;34m%\u001b[0m\u001b[0mpic_dim\u001b[0m\u001b[0;34m)\u001b[0m\u001b[0;34m]\u001b[0m\u001b[0;34m.\u001b[0m\u001b[0mannotate\u001b[0m\u001b[0;34m(\u001b[0m\u001b[0mcifar_label\u001b[0m\u001b[0;34m[\u001b[0m\u001b[0mstr\u001b[0m\u001b[0;34m(\u001b[0m\u001b[0mY\u001b[0m\u001b[0;34m[\u001b[0m\u001b[0mi\u001b[0m\u001b[0;34m]\u001b[0m\u001b[0;34m)\u001b[0m\u001b[0;34m]\u001b[0m\u001b[0;34m,\u001b[0m\u001b[0mxy\u001b[0m\u001b[0;34m=\u001b[0m\u001b[0;34m(\u001b[0m\u001b[0;36m0.2\u001b[0m\u001b[0;34m,\u001b[0m\u001b[0;36m0.6\u001b[0m\u001b[0;34m)\u001b[0m\u001b[0;34m)\u001b[0m\u001b[0;34m\u001b[0m\u001b[0m\n\u001b[0m",
      "\u001b[0;31mKeyError\u001b[0m: '[6]'"
     ]
    },
    {
     "data": {
      "image/png": "[encoded data removed]",
      "text/plain": [
       "<matplotlib.figure.Figure at 0x7f2a847294a8>"
      ]
     },
     "metadata": {},
     "output_type": "display_data"
    }
   ],
   "source": [
    "# display cifar image\n",
    "#Visualizing CIFAR 10 method 2\n",
    "X3 = X.reshape(10000*dataset_number, 3, 32, 32).transpose(0,2,3,1)\n",
    "pic_dim = 6\n",
    "fig, axes1 = plt.subplots(pic_dim,pic_dim,figsize=(6,6))\n",
    "for i in range(pic_dim*pic_dim):\n",
    "    #print('i/pic_dim: ' + str(i/pic_dim) + 'i%pic_dim: ' + str(i%pic_dim))\n",
    "    axes1[int(i/pic_dim)][int(i%pic_dim)].set_axis_off()\n",
    "    axes1[int(i/pic_dim)][int(i%pic_dim)].imshow(X3[i])\n",
    "    axes1[int(i/pic_dim)][int(i%pic_dim)].annotate(cifar_label[str(Y[i])],xy=(0.2,0.6))"
   ]
  },
  {
   "cell_type": "code",
   "execution_count": null,
   "metadata": {},
   "outputs": [],
   "source": [
    "# display cifar image with gray\n",
    "#Visualizing CIFAR 10 method 2\n",
    "XG = X.reshape(10000, 3, 1024).transpose(0,2,1).astype(\"uint8\") #1000 x 3 x 1024 --> 1000 x 1024 x 3\n",
    "XG = np.mean(XG,axis=2)                                         #1000 x 1024\n",
    "XG = XG.reshape(10000, 32, 32)\n",
    "pic_dim = 6\n",
    "fig, axes1 = plt.subplots(pic_dim,pic_dim,figsize=(6,6))\n",
    "for i in range(pic_dim*pic_dim):\n",
    "    #print('i/pic_dim: ' + str(i/pic_dim) + 'i%pic_dim: ' + str(i%pic_dim))\n",
    "    axes1[int(i/pic_dim)][int(i%pic_dim)].set_axis_off()\n",
    "    axes1[int(i/pic_dim)][int(i%pic_dim)].imshow(XG[i], cmap='gray')\n",
    "    axes1[int(i/pic_dim)][int(i%pic_dim)].annotate(cifar_label[str(Y[i])],xy=(0.2,0.6))"
   ]
  },
  {
   "cell_type": "code",
   "execution_count": null,
   "metadata": {
    "collapsed": true
   },
   "outputs": [],
   "source": [
    "###############################################################\n",
    "#   knn main code\n",
    "###############################################################"
   ]
  },
  {
   "cell_type": "code",
   "execution_count": null,
   "metadata": {
    "collapsed": true
   },
   "outputs": [],
   "source": [
    "XG = X.reshape(10000, 3, 1024).transpose(0,2,1).astype(\"uint8\") #10000 x 3 x 1024 --> 10000 x 1024 x 3\n",
    "XG = np.mean(XG,axis=2)                                         #10000 x 1024\n",
    "\n",
    "# training set and testing test\n",
    "t_rate   = 0.8\n",
    "train_set_num = int(len(X)*t_rate)\n",
    "train_set   = XG[:train_set_num]\n",
    "train_label = Y[:train_set_num]\n",
    "test_set    = XG[train_set_num+1:]\n",
    "test_label  = Y[train_set_num+1:]"
   ]
  },
  {
   "cell_type": "code",
   "execution_count": null,
   "metadata": {
    "collapsed": true
   },
   "outputs": [],
   "source": [
    "def l1_dist(input_vec, train_set):\n",
    "    l1_formula = lambda x: sum(abs(input_vec - x))\n",
    "    l1_dist_vec= l1_formula(train_set)\n",
    "    return l1_dist_vec\n",
    "\n",
    "def l2_dist(input_vec, train_set):\n",
    "    l2_formula = lambda x: np.sqrt(sum((input_vec - x) ** 2))\n",
    "    l2_dist_vec= l2_formula(train_set)\n",
    "    return l2_dist_vec"
   ]
  },
  {
   "cell_type": "code",
   "execution_count": null,
   "metadata": {},
   "outputs": [],
   "source": [
    "k = 3\n",
    "correct_num = 0\n",
    "pred = np.zeros(shape=(len(test_set),1),dtype='uint8')\n",
    "for i in range(len(test_set)):\n",
    "    test_sample = test_set[i]\n",
    "    dict_vec    = l1_dist(test_sample, train_set)\n",
    "    idx         = np.argpartition(dict_vec,k)[0:k]\n",
    "    vote        = train_label[idx[0:k]]\n",
    "    #tmp = np.bincount(vote)\n",
    "    #print(str(np.bincount(vote)))\n",
    "    #print(str(np.argmax(tmp)))\n",
    "    pred[i]     = np.argmax(np.bincount(vote))\n",
    "    #if i > 100: break\n",
    "    print(str(test_label[i]) + ' , ' + str(vote) + ' --> ' + str(pred[i]))\n",
    "    \n",
    "    if test_label[i] == train_label[idx[0]]:\n",
    "        correct_num += 1\n",
    "\n",
    "accuracy = correct_num/len(test_set)\n",
    "print('knn accuarcy is ' + str(float(\"{0:.3f}\".format(accuracy*100)))+'%')"
   ]
  },
  {
   "cell_type": "code",
   "execution_count": null,
   "metadata": {},
   "outputs": [],
   "source": [
    "k= 1\n",
    "test_sample = test_set[0]\n",
    "l1_dict_vec = l1_dist(test_sample,train_set)\n",
    "idx = np.argpartition(l1_dict_vec,k)\n",
    "#\n",
    "print(Y[train_set_num+0])\n",
    "print(Y[train_set_num+idx[0]])"
   ]
  },
  {
   "cell_type": "code",
   "execution_count": null,
   "metadata": {
    "collapsed": true
   },
   "outputs": [],
   "source": []
  },
  {
   "cell_type": "code",
   "execution_count": null,
   "metadata": {},
   "outputs": [],
   "source": [
    "int_v = test_set[0]/255\n",
    "trn_v = train_set[0]/255\n",
    "print(int_v)\n",
    "print(trn_v)"
   ]
  },
  {
   "cell_type": "code",
   "execution_count": null,
   "metadata": {},
   "outputs": [],
   "source": [
    "print('np.linalg.norm = ' + str(np.linalg.norm((int_v - trn_v), ord=2)))\n",
    "dist_l1 = sum(abs(int_v - trn_v))\n",
    "print('sum(abs(a-b)) = ' + str(dist_l1))\n"
   ]
  },
  {
   "cell_type": "code",
   "execution_count": null,
   "metadata": {},
   "outputs": [],
   "source": [
    "int_v = np.array([1,1,1,1,1])\n",
    "tring_set = np.array([[2,2,2,2,2],[3,3,3,3,3],[4,4,4,4,4],[5,5,5,5,5]])\n",
    "#dist_lambda = lambda x: np.linalg.norm((int_v - x), ord=1)\n",
    "dist_lambda = lambda x: sum(abs(int_v - x))\n",
    "#dist_vec = map{lamda x: np.linalg.norm((int_v - x), ord=1),train_set}\n",
    "dist_vec = dist_lambda(tring_set)\n",
    "dist_vec"
   ]
  }
 ],
 "metadata": {
  "kernelspec": {
   "display_name": "Python 3",
   "language": "python",
   "name": "python3"
  },
  "language_info": {
   "codemirror_mode": {
    "name": "ipython",
    "version": 3
   },
   "file_extension": ".py",
   "mimetype": "text/x-python",
   "name": "python",
   "nbconvert_exporter": "python",
   "pygments_lexer": "ipython3",
   "version": "3.5.2"
  }
 },
 "nbformat": 4,
 "nbformat_minor": 2
}
